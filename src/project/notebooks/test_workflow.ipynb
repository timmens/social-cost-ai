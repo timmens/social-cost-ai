{
 "cells": [
  {
   "cell_type": "markdown",
   "id": "manufactured-english",
   "metadata": {},
   "source": [
    "## Test PyTorch Workflow\n",
    "\n",
    "This notebook is supposed to be used to test the PyTorch workflow before training we test a proper model."
   ]
  },
  {
   "cell_type": "code",
   "execution_count": 1,
   "id": "continuous-disclosure",
   "metadata": {},
   "outputs": [],
   "source": [
    "import time\n",
    "import datetime\n",
    "import numpy as np\n",
    "\n",
    "from sklearn.model_selection import train_test_split\n",
    "from sklearn.metrics import mean_squared_error\n",
    "\n",
    "np.random.seed(0)\n",
    "program_start = time.time()\n",
    "program_start_date = datetime.datetime.now()"
   ]
  },
  {
   "cell_type": "code",
   "execution_count": 2,
   "id": "expired-university",
   "metadata": {},
   "outputs": [],
   "source": [
    "def simulate_data(n_samples, n_features):\n",
    "    \"\"\"Simulate linear model with 3 relevant features.\"\"\"\n",
    "    weights = np.array([-5, 10, 4])\n",
    "\n",
    "    x = np.random.uniform(size=(n_samples, n_features))\n",
    "    error = np.random.normal(size=(n_samples,))\n",
    "\n",
    "    y = x[:, :3] @ weights + error\n",
    "\n",
    "    return x, y"
   ]
  },
  {
   "cell_type": "code",
   "execution_count": 3,
   "id": "36ba7bf7",
   "metadata": {},
   "outputs": [],
   "source": [
    "# data = simulate_data(n_samples=10_000, n_features=100_000)\n",
    "\n",
    "data = simulate_data(n_samples=10_000, n_features=500)\n",
    "\n",
    "x_train, x_test, y_train, y_test = train_test_split(\n",
    "    *data, test_size=0.25, random_state=0\n",
    ")"
   ]
  },
  {
   "cell_type": "markdown",
   "id": "c212a5d8",
   "metadata": {},
   "source": [
    "### PyTorch Network"
   ]
  },
  {
   "cell_type": "code",
   "execution_count": 4,
   "id": "c38e22fd",
   "metadata": {},
   "outputs": [],
   "source": [
    "import torch\n",
    "import torch.nn as nn\n",
    "import torch.nn.functional as F\n",
    "import torch.optim as optim\n",
    "\n",
    "from tqdm import tqdm"
   ]
  },
  {
   "cell_type": "code",
   "execution_count": 5,
   "id": "0ca34d89",
   "metadata": {},
   "outputs": [],
   "source": [
    "class NeuralNetwork(nn.Module):\n",
    "    \"\"\"Neural network class.\n",
    "\n",
    "    Is called with input dimension (input_dim) and a list of integers,\n",
    "    where each entry corresponds to the number of nodes in the respective\n",
    "    layer.\n",
    "\n",
    "    \"\"\"\n",
    "\n",
    "    def __init__(self, input_dim, hidden_dim):\n",
    "        super(NeuralNetwork, self).__init__()\n",
    "\n",
    "        self.input_dim = input_dim\n",
    "        self.hidden_dim = hidden_dim\n",
    "\n",
    "        current_dim = input_dim\n",
    "        self.layers = nn.ModuleList()\n",
    "        for hdim in hidden_dim:\n",
    "            self.layers.append(nn.Linear(current_dim, hdim))\n",
    "            current_dim = hdim\n",
    "        self.layers.append(nn.Linear(current_dim, 1))\n",
    "\n",
    "    def forward(self, x):\n",
    "        for layer in self.layers[:-1]:\n",
    "            x = F.relu(layer(x))\n",
    "        out = self.layers[-1](x)\n",
    "        return out"
   ]
  },
  {
   "cell_type": "markdown",
   "id": "841c90f1",
   "metadata": {},
   "source": [
    "## Training"
   ]
  },
  {
   "cell_type": "code",
   "execution_count": 6,
   "id": "cead1072",
   "metadata": {},
   "outputs": [],
   "source": [
    "x_train = torch.tensor(x_train, dtype=torch.float)\n",
    "x_test = torch.tensor(x_test, dtype=torch.float)\n",
    "y_train = torch.tensor(y_train.reshape(-1, 1), dtype=torch.float)"
   ]
  },
  {
   "cell_type": "code",
   "execution_count": 7,
   "id": "41b97eb4",
   "metadata": {},
   "outputs": [],
   "source": [
    "loss_function = nn.MSELoss()"
   ]
  },
  {
   "cell_type": "code",
   "execution_count": 8,
   "id": "8aa65fd2",
   "metadata": {},
   "outputs": [],
   "source": [
    "input_dim = x_test.shape[1]\n",
    "\n",
    "# hidden_dim = 25 * [input_dim]\n",
    "hidden_dim = [3]  # results in 1 hidden layer with 3 nodes\n",
    "\n",
    "model = NeuralNetwork(input_dim, hidden_dim)"
   ]
  },
  {
   "cell_type": "code",
   "execution_count": 9,
   "id": "801f4a36",
   "metadata": {},
   "outputs": [],
   "source": [
    "optimizer = optim.Adam(model.parameters(), lr=0.005)"
   ]
  },
  {
   "cell_type": "code",
   "execution_count": 10,
   "id": "a0ef04c9",
   "metadata": {},
   "outputs": [
    {
     "name": "stderr",
     "output_type": "stream",
     "text": [
      "100%|██████████████████████████████████████████████████████████████████████████████████████████████████████████████████████████████████| 10000/10000 [00:57<00:00, 175.28it/s]\n"
     ]
    }
   ],
   "source": [
    "n_epochs = 10_000\n",
    "\n",
    "for i in tqdm(range(n_epochs)):\n",
    "    # initialize the gradient of model parameters\n",
    "    optimizer.zero_grad()\n",
    "\n",
    "    # calculate the loss\n",
    "    y_val = model(x_train)\n",
    "    loss = loss_function(y_val, y_train)\n",
    "\n",
    "    # backpropagation\n",
    "    loss.backward()\n",
    "\n",
    "    # update parameters\n",
    "    optimizer.step()"
   ]
  },
  {
   "cell_type": "markdown",
   "id": "94337c37",
   "metadata": {},
   "source": [
    "## Validation"
   ]
  },
  {
   "cell_type": "code",
   "execution_count": 11,
   "id": "2b2cb930",
   "metadata": {},
   "outputs": [
    {
     "data": {
      "text/plain": [
       "1.0972190175643948"
      ]
     },
     "execution_count": 11,
     "metadata": {},
     "output_type": "execute_result"
    }
   ],
   "source": [
    "y_pred = model(x_test).cpu().detach().numpy()\n",
    "\n",
    "mean_squared_error(y_pred, y_test)  # should be around 1 because of the error variance"
   ]
  },
  {
   "cell_type": "markdown",
   "id": "5ae0bb91",
   "metadata": {},
   "source": [
    "## Runtime"
   ]
  },
  {
   "cell_type": "code",
   "execution_count": 12,
   "id": "9874446f",
   "metadata": {},
   "outputs": [
    {
     "data": {
      "text/plain": [
       "'Program runtime: 57 seconds'"
      ]
     },
     "execution_count": 12,
     "metadata": {},
     "output_type": "execute_result"
    }
   ],
   "source": [
    "program_end = time.time()\n",
    "\n",
    "f\"Program runtime: {int(program_end - program_start)} seconds\""
   ]
  }
 ],
 "metadata": {
  "kernelspec": {
   "display_name": "Python 3 (ipykernel)",
   "language": "python",
   "name": "python3"
  },
  "language_info": {
   "codemirror_mode": {
    "name": "ipython",
    "version": 3
   },
   "file_extension": ".py",
   "mimetype": "text/x-python",
   "name": "python",
   "nbconvert_exporter": "python",
   "pygments_lexer": "ipython3",
   "version": "3.9.10"
  }
 },
 "nbformat": 4,
 "nbformat_minor": 5
}
