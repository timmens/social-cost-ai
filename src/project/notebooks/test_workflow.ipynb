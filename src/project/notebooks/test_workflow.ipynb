{
 "cells": [
  {
   "cell_type": "markdown",
   "id": "manufactured-english",
   "metadata": {},
   "source": [
    "## Test PyTorch Workflow\n",
    "\n",
    "This notebook is used to test the PyTorch workflow before training a proper model."
   ]
  },
  {
   "cell_type": "code",
   "execution_count": 1,
   "id": "continuous-disclosure",
   "metadata": {},
   "outputs": [],
   "source": [
    "import numpy as np\n",
    "\n",
    "from sklearn.model_selection import train_test_split\n",
    "from sklearn.metrics import mean_squared_error\n",
    "\n",
    "np.random.seed(0)"
   ]
  },
  {
   "cell_type": "code",
   "execution_count": 2,
   "id": "expired-university",
   "metadata": {},
   "outputs": [],
   "source": [
    "def simulate_data(n_samples, n_features):\n",
    "    \"\"\"Simulate linear model with 3 relevant features.\"\"\"\n",
    "    weights = np.array([-1, 2, 0.5])\n",
    "    \n",
    "    x = np.random.uniform(size=(n_samples, n_features))\n",
    "    error = np.random.normal(size=(n_samples,))\n",
    "    \n",
    "    y = x[:, :3] @ weights + error\n",
    "    \n",
    "    return x, y"
   ]
  },
  {
   "cell_type": "code",
   "execution_count": 3,
   "id": "36ba7bf7",
   "metadata": {},
   "outputs": [],
   "source": [
    "# data = simulate_data(n_samples=10_000, n_features=100_000)\n",
    "data = simulate_data(n_samples=10_000, n_features=500)"
   ]
  },
  {
   "cell_type": "code",
   "execution_count": 4,
   "id": "d7138523",
   "metadata": {},
   "outputs": [],
   "source": [
    "x_train, x_test, y_train, y_test = train_test_split(*data, test_size=0.25, random_state=0)"
   ]
  },
  {
   "cell_type": "markdown",
   "id": "c212a5d8",
   "metadata": {},
   "source": [
    "### PyTorch"
   ]
  },
  {
   "cell_type": "code",
   "execution_count": 5,
   "id": "c38e22fd",
   "metadata": {},
   "outputs": [],
   "source": [
    "import torch\n",
    "import torch.nn as nn\n",
    "import torch.nn.functional as F\n",
    "import torch.optim as optim\n",
    "\n",
    "from tqdm import tqdm"
   ]
  },
  {
   "cell_type": "code",
   "execution_count": 10,
   "id": "0ca34d89",
   "metadata": {},
   "outputs": [],
   "source": [
    "class NeuralNetwork(nn.Module):\n",
    "    def __init__(self, input_dim, hidden_dim):\n",
    "        super(NeuralNetwork, self).__init__()\n",
    "        \n",
    "        self.input_dim = input_dim\n",
    "        self.hidden_dim = hidden_dim\n",
    "        \n",
    "        current_dim = input_dim\n",
    "        self.layers = nn.ModuleList()\n",
    "        for hdim in hidden_dim:\n",
    "            self.layers.append(nn.Linear(current_dim, hdim))\n",
    "            current_dim = hdim\n",
    "        self.layers.append(nn.Linear(current_dim, 1))\n",
    "\n",
    "    def forward(self, x):\n",
    "        for layer in self.layers[:-1]:\n",
    "            x = F.relu(layer(x))\n",
    "        out = self.layers[-1](x)\n",
    "        return out"
   ]
  },
  {
   "cell_type": "markdown",
   "id": "841c90f1",
   "metadata": {},
   "source": [
    "## Training"
   ]
  },
  {
   "cell_type": "code",
   "execution_count": 7,
   "id": "cead1072",
   "metadata": {},
   "outputs": [],
   "source": [
    "x_train = torch.tensor(x_train, dtype=torch.float)\n",
    "x_test = torch.tensor(x_test, dtype=torch.float)\n",
    "y_train = torch.tensor(y_train.reshape(-1, 1), dtype=torch.float)"
   ]
  },
  {
   "cell_type": "code",
   "execution_count": 8,
   "id": "41b97eb4",
   "metadata": {},
   "outputs": [],
   "source": [
    "loss_function = nn.MSELoss()"
   ]
  },
  {
   "cell_type": "code",
   "execution_count": 11,
   "id": "8aa65fd2",
   "metadata": {},
   "outputs": [],
   "source": [
    "input_dim = x_test.shape[1]\n",
    "hidden_dim = 20 * [input_dim]\n",
    "\n",
    "model = NeuralNetwork(input_dim, hidden_dim)"
   ]
  },
  {
   "cell_type": "code",
   "execution_count": 12,
   "id": "801f4a36",
   "metadata": {},
   "outputs": [],
   "source": [
    "optimizer = optim.Adam(model.parameters(), lr=0.005)"
   ]
  },
  {
   "cell_type": "code",
   "execution_count": null,
   "id": "a0ef04c9",
   "metadata": {},
   "outputs": [
    {
     "name": "stderr",
     "output_type": "stream",
     "text": [
      " 16%|████████████████████████████████████                                                                                                                                                                                                     | 155/1000 [07:16<42:25,  3.01s/it]"
     ]
    }
   ],
   "source": [
    "n_epochs = 1_000\n",
    "\n",
    "for i in tqdm(range(n_epochs)):\n",
    "    # initialize the gradient of model parameters\n",
    "    optimizer.zero_grad()\n",
    "\n",
    "    # calculate the loss\n",
    "    y_val = model(x_train)\n",
    "    loss = loss_function(y_val, y_train)\n",
    "    \n",
    "    # backpropagation\n",
    "    loss.backward()\n",
    "    \n",
    "    # update parameters\n",
    "    optimizer.step()"
   ]
  },
  {
   "cell_type": "markdown",
   "id": "94337c37",
   "metadata": {},
   "source": [
    "## Validation"
   ]
  },
  {
   "cell_type": "code",
   "execution_count": null,
   "id": "2b2cb930",
   "metadata": {},
   "outputs": [],
   "source": [
    "y_pred = model(x_test).cpu().detach().numpy()"
   ]
  },
  {
   "cell_type": "code",
   "execution_count": 44,
   "id": "a1d83b85",
   "metadata": {},
   "outputs": [
    {
     "data": {
      "text/plain": [
       "1.1035721045499354"
      ]
     },
     "execution_count": 44,
     "metadata": {},
     "output_type": "execute_result"
    }
   ],
   "source": [
    "mean_squared_error(y_pred, y_test)"
   ]
  }
 ],
 "metadata": {
  "kernelspec": {
   "display_name": "Python 3 (ipykernel)",
   "language": "python",
   "name": "python3"
  },
  "language_info": {
   "codemirror_mode": {
    "name": "ipython",
    "version": 3
   },
   "file_extension": ".py",
   "mimetype": "text/x-python",
   "name": "python",
   "nbconvert_exporter": "python",
   "pygments_lexer": "ipython3",
   "version": "3.9.10"
  }
 },
 "nbformat": 4,
 "nbformat_minor": 5
}
