{
 "cells": [
  {
   "cell_type": "markdown",
   "id": "f0f10a21",
   "metadata": {},
   "source": [
    "# What can our AI model do?\n",
    "\n",
    "---"
   ]
  },
  {
   "cell_type": "code",
   "execution_count": 1,
   "id": "38e6b48d",
   "metadata": {},
   "outputs": [],
   "source": [
    "from transformers import pipeline\n",
    "import numpy as np\n",
    "\n",
    "import warnings\n",
    "warnings.filterwarnings(\"ignore\")\n",
    "\n",
    "def unmask(inputs, pipe):\n",
    "    out = []\n",
    "    for e in pipe(inputs):\n",
    "        d = (np.round(e[\"score\"], 2), e[\"sequence\"])\n",
    "        out.append(d)\n",
    "    return out"
   ]
  },
  {
   "cell_type": "markdown",
   "id": "73c6ce2d",
   "metadata": {},
   "source": [
    "---\n",
    "\n",
    "## Fill-mask\n",
    "\n",
    "### Wikitext"
   ]
  },
  {
   "cell_type": "code",
   "execution_count": 2,
   "id": "e063bad6",
   "metadata": {},
   "outputs": [],
   "source": [
    "pipe = pipeline(task=\"fill-mask\", model=\"/home/tim/sciebo/BERT/wikitext/\")"
   ]
  },
  {
   "cell_type": "code",
   "execution_count": 3,
   "id": "c4c5b3b2",
   "metadata": {},
   "outputs": [
    {
     "data": {
      "text/plain": [
       "[(0.06, 'the man worked as a teacher.'),\n",
       " (0.05, 'the man worked as a farmer.'),\n",
       " (0.05, 'the man worked as a miner.'),\n",
       " (0.05, 'the man worked as a clerk.'),\n",
       " (0.04, 'the man worked as a barber.')]"
      ]
     },
     "execution_count": 3,
     "metadata": {},
     "output_type": "execute_result"
    }
   ],
   "source": [
    "unmask(\"The man worked as a [MASK].\", pipe)"
   ]
  },
  {
   "cell_type": "code",
   "execution_count": 4,
   "id": "2fd58fba",
   "metadata": {},
   "outputs": [
    {
     "data": {
      "text/plain": [
       "[(0.17, 'the woman worked as a nurse.'),\n",
       " (0.12, 'the woman worked as a maid.'),\n",
       " (0.1, 'the woman worked as a prostitute.'),\n",
       " (0.09, 'the woman worked as a waitress.'),\n",
       " (0.07, 'the woman worked as a teacher.')]"
      ]
     },
     "execution_count": 4,
     "metadata": {},
     "output_type": "execute_result"
    }
   ],
   "source": [
    "unmask(\"The woman worked as a [MASK].\", pipe)"
   ]
  },
  {
   "cell_type": "markdown",
   "id": "3abfb335",
   "metadata": {},
   "source": [
    "### BookCorpus"
   ]
  },
  {
   "cell_type": "code",
   "execution_count": 5,
   "id": "9445134e",
   "metadata": {},
   "outputs": [],
   "source": [
    "# pipe = pipeline(task=\"fill-mask\", model=\"/home/tim/sciebo/BERT/wikitext/\")"
   ]
  },
  {
   "cell_type": "markdown",
   "id": "8fc1ff22",
   "metadata": {},
   "source": [
    "## Question-Answering"
   ]
  },
  {
   "cell_type": "code",
   "execution_count": 6,
   "id": "9b385732",
   "metadata": {},
   "outputs": [],
   "source": [
    "context = r\"\"\"\n",
    "Aimee van Wynsberghe is an AI ethicist at the University of Bonn in Bonn, Germany. She is also the president and co-founder of the Foundation for Responsible Robotics, a not-for-profit NGO that advocates for the ethical design and production of robots.\n",
    "\n",
    "Originally from London, Ontario, she received her bachelor's degree in cell biology from the University of Western Ontario, after which she obtained dual master's degrees in applied ethics and bioethics from KU Leuven in Belgium and the European Union's Erasmus Mundus program. She received her PhD from the University of Twente in 2012; her dissertation involved the creation of an ethical framework for the use of care robots in the medical field and was nominated for the Georges Giralt Award for best PhD thesis in Robotics.\n",
    "\n",
    "van Wynsberghe has been working in the field of robotics since 2004, beginning her career as a research assistant at CSTAR (Canadian Surgical Technologies and Advance Robotics). From 2014 to 2017 she was an assistant professor at the University of Twente, where her work focused on robot ethics, before serving as an associate professor in ethics and technology at Delft University of Technology. She was awarded an Alexander von Humboldt Professorship for Applied Ethics of Artificial Intelligence in 2020 and moved to Bonn, Germany to take on the directorship of Bonn University's Institute of Science and Ethics and set up a lab on Sustainable Artificial Intelligence.\n",
    "\n",
    "In 2015, van Wynsberghe and Noel Sharkey established the Foundation for Responsible Robotics (FRR), a not-for-profit, non-governmental organization that advocates for the ethical design and production of robots. In founding the FRR, van Wynsberghe and Sharkey cited the urgent need for a greater level of accountability and attention to ethics in the design of robots, especially those that complete jobs through automation. She currently serves as the president of the foundation, organizing multi-stakeholder workshops; writing and disseminating consultation documents and reports; establishing public-private partnerships; and addressing legislative bodies within the European Union.\n",
    "\n",
    "van Wynsberghe is also a member of multiple organizations focusing on the ethics of technology. She has been appointed to the European Commission's High-Level Expert Group on Artificial Intelligence (AI HLG) and currently serves on the board of numerous NGOs, including the Institute for Accountability in the Digital Age and the Netherlands Alliance for AI (ALLAI Netherlands). She also serves on the advisory board of the AI & Intelligent Automation Network.\n",
    "\n",
    "According to Google Scholar, van Wynsberghe's work has been cited over 1200 times and currently holds an h-index of 17. She is the author of the 2016 book Healthcare Robots: Ethics, Design and Implementation, which addresses the current and future role of robots in the healthcare sector and the urgent need to impose ethical guidelines on their use.\n",
    "\n",
    "Van Wynsberghe was a 2015 recipient of an NWO Veni Personal Research Grant to study the ethical design of care robots. In 2017, Van Wynsberghe appeared on Robohub's \"25 Women in Robotics You Need to Know About\" list. In July 2018 she was listed among the British Interactive Media Association's \"100 Ai Influencers Worth Following\". Van Wynsberghe was a 2018 recipient of the Dutch L’Oréal – UNESCO For Women in Science Fellowship. She was awarded an Alexander von Humboldt Professorship for Applied Ethics of Artificial Intelligence in 2020.\n",
    "\n",
    "In January 2018, van Wynsberghe was interviewed for a Raddington Report article entitled “Robot Ethics, Robot Equality.” In June 2018 she was featured on BBC's Today program and was interviewed by Seth Adler at the Artificial Intelligence & Intelligent Automation Network. Van Wynsberghe has spoken at major international events including Web Summit, the European Investment Bank Global Investment Forum, AI for Good's Global Summit, and the Economist's Innovation Summit. Van Wynsberghe was interviewed for the 2017 VPRO documentary Robo Sapiens, which discusses humankind's future with robots.\n",
    "\n",
    "Aimee van Wynsberghe has been working in ICT and robotics since 2004. She began her career as part of a research team working with surgical robots in Canada at CSTAR (Canadian Surgical Technologies and Advance Robotics). She is the Alexander von Humboldt Professor for Applied Ethics of Artificial Intelligence at the University of Bonn in Germany. Aimee is co-founder and co-director of the Foundation for Responsible Robotics and on the board of the Institute for Accountability in a Digital Age. She is a 2018 L'Oreal Unesco 'For Women in Science' laureate. Aimee also serves as a member of the European Commission's High-Level Expert Group on AI and is a founding board member of the Netherlands AI Alliance. She is a founding editor for the international peer-reviewed journal AI & Ethics (Springer Nature) and a member of the World Economic Forum's Global Futures Council on Artificial Intelligence and Humanity. Aimee has been named one of the Netherlands top 400 influential women under 38 by VIVA and was named one of the 25 ‘women in robotics you need to know about’. She is author of the book Healthcare Robots: Ethics, Design, and Implementation and has been awarded an NWO personal research grant to study how we can responsibly design service robots. She has been interviewed by BBC, Quartz, Financial Times, and other International news media on the topic of ethics and robots, and is often invited to speak at International conferences and summits.\n",
    "\"\"\""
   ]
  },
  {
   "cell_type": "code",
   "execution_count": 7,
   "id": "2868f2e4",
   "metadata": {},
   "outputs": [],
   "source": [
    "def answerer(question, pipe, context):\n",
    "    res = pipe(question=question, context=context)\n",
    "    return (res[\"score\"], res[\"answer\"])"
   ]
  },
  {
   "cell_type": "markdown",
   "id": "67a41c5c",
   "metadata": {},
   "source": [
    "### Wikitext"
   ]
  },
  {
   "cell_type": "code",
   "execution_count": 8,
   "id": "1418c0c4",
   "metadata": {},
   "outputs": [
    {
     "name": "stderr",
     "output_type": "stream",
     "text": [
      "Some weights of the model checkpoint at /home/tim/sciebo/BERT/wikitext/ were not used when initializing BertForQuestionAnswering: ['cls.predictions.transform.LayerNorm.bias', 'cls.predictions.transform.LayerNorm.weight', 'cls.predictions.transform.dense.bias', 'cls.predictions.decoder.bias', 'cls.predictions.bias', 'cls.predictions.transform.dense.weight', 'cls.predictions.decoder.weight']\n",
      "- This IS expected if you are initializing BertForQuestionAnswering from the checkpoint of a model trained on another task or with another architecture (e.g. initializing a BertForSequenceClassification model from a BertForPreTraining model).\n",
      "- This IS NOT expected if you are initializing BertForQuestionAnswering from the checkpoint of a model that you expect to be exactly identical (initializing a BertForSequenceClassification model from a BertForSequenceClassification model).\n",
      "Some weights of BertForQuestionAnswering were not initialized from the model checkpoint at /home/tim/sciebo/BERT/wikitext/ and are newly initialized: ['qa_outputs.weight', 'qa_outputs.bias']\n",
      "You should probably TRAIN this model on a down-stream task to be able to use it for predictions and inference.\n"
     ]
    }
   ],
   "source": [
    "pipe = pipeline(task=\"question-answering\", model=\"/home/tim/sciebo/BERT/wikitext/\")"
   ]
  },
  {
   "cell_type": "code",
   "execution_count": 9,
   "id": "38ab4e3b",
   "metadata": {},
   "outputs": [
    {
     "data": {
      "text/plain": [
       "(3.8309510273393244e-05,\n",
       " 'Wynsberghe was interviewed for the 2017 VPRO documentary Robo')"
      ]
     },
     "execution_count": 9,
     "metadata": {},
     "output_type": "execute_result"
    }
   ],
   "source": [
    "answerer(\n",
    "    question=\"What is Aimee's research field?\",\n",
    "    pipe=pipe,\n",
    "    context=context,\n",
    ")"
   ]
  },
  {
   "cell_type": "markdown",
   "id": "5911c152",
   "metadata": {},
   "source": [
    "### BookCorpus"
   ]
  },
  {
   "cell_type": "code",
   "execution_count": 10,
   "id": "46d1371d",
   "metadata": {},
   "outputs": [],
   "source": [
    "# pipe = pipeline(task=\"question-answering\", model=\"/home/tim/sciebo/BERT/bookcorpus/\")"
   ]
  },
  {
   "cell_type": "markdown",
   "id": "6c19ebf7",
   "metadata": {},
   "source": [
    "### distilbert-base-cased-distilled-squad"
   ]
  },
  {
   "cell_type": "code",
   "execution_count": 11,
   "id": "4f716ed3",
   "metadata": {},
   "outputs": [],
   "source": [
    "pipe = pipeline(task=\"question-answering\", model=\"distilbert-base-cased-distilled-squad\")"
   ]
  },
  {
   "cell_type": "code",
   "execution_count": 12,
   "id": "2f90d393",
   "metadata": {},
   "outputs": [
    {
     "data": {
      "text/plain": [
       "(0.4642484188079834, 'robotics')"
      ]
     },
     "execution_count": 12,
     "metadata": {},
     "output_type": "execute_result"
    }
   ],
   "source": [
    "answerer(\n",
    "    question=\"What is Aimee's research field?\",\n",
    "    pipe=pipe,\n",
    "    context=context,\n",
    ")"
   ]
  },
  {
   "cell_type": "code",
   "execution_count": 13,
   "id": "4f97a621",
   "metadata": {},
   "outputs": [
    {
     "data": {
      "text/plain": [
       "(0.6924609541893005, 'University of Bonn in Bonn, Germany')"
      ]
     },
     "execution_count": 13,
     "metadata": {},
     "output_type": "execute_result"
    }
   ],
   "source": [
    "answerer(\n",
    "    question=\"Where does Aimee work?\",\n",
    "    pipe=pipe,\n",
    "    context=context,\n",
    ")"
   ]
  },
  {
   "cell_type": "code",
   "execution_count": 14,
   "id": "a1632c65",
   "metadata": {},
   "outputs": [
    {
     "data": {
      "text/plain": [
       "(0.9715934991836548, 'Germany')"
      ]
     },
     "execution_count": 14,
     "metadata": {},
     "output_type": "execute_result"
    }
   ],
   "source": [
    "answerer(\n",
    "    question=\"In which country does Aimee live?\",\n",
    "    pipe=pipe,\n",
    "    context=context,\n",
    ")"
   ]
  },
  {
   "cell_type": "code",
   "execution_count": 15,
   "id": "04562a7e",
   "metadata": {},
   "outputs": [
    {
     "data": {
      "text/plain": [
       "(0.005188351031392813, 'not-for-profit')"
      ]
     },
     "execution_count": 15,
     "metadata": {},
     "output_type": "execute_result"
    }
   ],
   "source": [
    "answerer(\n",
    "    question=\"Is AI good for the environment, yes or no?\",\n",
    "    pipe=pipe,\n",
    "    context=context,\n",
    ")"
   ]
  },
  {
   "cell_type": "code",
   "execution_count": 16,
   "id": "d519ab3b",
   "metadata": {},
   "outputs": [
    {
     "data": {
      "text/plain": [
       "(0.006020880304276943, 'High-Level Expert Group on AI')"
      ]
     },
     "execution_count": 16,
     "metadata": {},
     "output_type": "execute_result"
    }
   ],
   "source": [
    "answerer(\n",
    "    question=\"Should we worry about AI?\",\n",
    "    pipe=pipe,\n",
    "    context=context,\n",
    ")"
   ]
  }
 ],
 "metadata": {
  "kernelspec": {
   "display_name": "Python 3 (ipykernel)",
   "language": "python",
   "name": "python3"
  },
  "language_info": {
   "codemirror_mode": {
    "name": "ipython",
    "version": 3
   },
   "file_extension": ".py",
   "mimetype": "text/x-python",
   "name": "python",
   "nbconvert_exporter": "python",
   "pygments_lexer": "ipython3",
   "version": "3.9.13"
  }
 },
 "nbformat": 4,
 "nbformat_minor": 5
}
